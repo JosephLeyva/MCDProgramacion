{
  "cells": [
    {
      "cell_type": "markdown",
      "metadata": {
        "id": "zvKNlvKPhHJZ"
      },
      "source": [
        "<a href=\"https://colab.research.google.com/github/mcd-unison/material-programacion/blob/main/intro-python.ipynb\" target=\"_parent\"><img src=\"https://colab.research.google.com/assets/colab-badge.svg\" alt=\"Open In Colab\"/></a>"
      ]
    },
    {
      "cell_type": "markdown",
      "metadata": {
        "id": "4xhOAXs_hHJg"
      },
      "source": [
        "<center>\n",
        "<p><img src=\"https://mcd.unison.mx/wp-content/themes/awaken/img/logo_mcd.png\" width=\"100\">\n",
        "</p>\n",
        "\n",
        "\n",
        "\n",
        "# Curso Propedéutico en *Programación*\n",
        "\n",
        "## Introducción a `python` resolviendo preguntas\n",
        "\n",
        "\n",
        "<p> Julio Waissman Vilanova </p>\n",
        "<p>\n",
        "<img src=\"https://identidadbuho.unison.mx/wp-content/uploads/2019/06/letragrama-cmyk-72.jpg\" width=\"200\">\n",
        "</p>\n",
        "</center>\n",
        "\n"
      ]
    },
    {
      "cell_type": "markdown",
      "metadata": {
        "id": "U_oY57okhHJi"
      },
      "source": [
        "### Tipos\n",
        "\n",
        "¿Cuales son los tipos de datos básicos? Revisa los tipos siguientes:\n",
        "\n",
        "1. Tipos numéricos `int`, `float`, `complex`\n",
        "2. Cadenas de caracteres\n",
        "3. Tuplas\n",
        "4. Listas\n",
        "5. Diccionarios\n",
        "6. Conjuntos\n",
        "\n",
        "Da ejemplo de sobrecarga de operadores (en particular `+` y `*`)\n",
        "\n"
      ]
    },
    {
      "cell_type": "code",
      "execution_count": 4,
      "metadata": {
        "id": "wKaLf98lhHJk"
      },
      "outputs": [
        {
          "name": "stdout",
          "output_type": "stream",
          "text": [
            "10\n",
            "HolaAdios\n",
            "100\n",
            "HolaHolaHolaHolaHola\n"
          ]
        }
      ],
      "source": [
        "print(10 + 0)\n",
        "print(\"Hola\" + \"Adios\")\n",
        "\n",
        "print(10 * 10)\n",
        "print(\"Hola\" * 5)"
      ]
    },
    {
      "cell_type": "markdown",
      "metadata": {
        "id": "x_BfNOOVhHJl"
      },
      "source": [
        "¿Que significa que unos tipos sean *mutables* y otros *inmutables*? \n",
        "\n",
        "Realiza un pequeño programa donde quede claro lo que significa que un tipo de datos sea mutable, e ilustra el uso del método `copy.deepcopy()`. "
      ]
    },
    {
      "cell_type": "code",
      "execution_count": 7,
      "metadata": {
        "id": "4Mgrw1DVhHJn"
      },
      "outputs": [
        {
          "name": "stdout",
          "output_type": "stream",
          "text": [
            "Elementos originales antes del deep copy\n",
            "1 2 [3, 5] 4 \n",
            "La nueva lista de elementos tras el deep copy\n",
            "1 2 [7, 5] 4 \n",
            "Los elementos originales al aplicarse el deep copy\n",
            "1 2 [3, 5] 4 "
          ]
        }
      ],
      "source": [
        "import copy\n",
        "\n",
        "li1 = [1, 2, [3,5], 4]\n",
        "\n",
        "li2 = copy.deepcopy(li1)\n",
        "\n",
        "# elementos originales de la lista\n",
        "print (\"Elementos originales antes del deep copy\")\n",
        "for i in range(0,len(li1)):\n",
        "\tprint (li1[i],end=\" \")\n",
        "\n",
        "print(\"\\r\")\n",
        "\n",
        "# añadiendo nuevos elementos a la lista\n",
        "li2[2][0] = 7\n",
        "\n",
        "# El cambio es reflejado en li2\n",
        "print (\"La nueva lista de elementos tras el deep copy\")\n",
        "for i in range(0,len( li1)):\n",
        "\tprint (li2[i],end=\" \")\n",
        "\n",
        "print(\"\\r\")\n",
        "\n",
        "# El cambio NO se ve reflejado en la lista original\n",
        "# al ser deep copy\n",
        "print (\"Los elementos originales al aplicarse el deep copy\")\n",
        "for i in range(0,len( li1)):\n",
        "\tprint (li1[i],end=\" \")\n"
      ]
    },
    {
      "cell_type": "code",
      "execution_count": 11,
      "metadata": {},
      "outputs": [
        {
          "name": "stdout",
          "output_type": "stream",
          "text": [
            "Elementos originales antes del shallow copy\n",
            "1 2 [3, 5] 4 \n",
            "Los elementos originales al aplicarse el shallow copy\n",
            "1 2 [7, 5] 4 "
          ]
        }
      ],
      "source": [
        "import copy\n",
        "\n",
        "li1 = [1, 2, [3,5], 4]\n",
        "\n",
        "li2 = copy.copy(li1)\n",
        "\n",
        "# elementos originales de la lista\n",
        "print (\"Elementos originales antes del shallow copy\")\n",
        "for i in range(0,len(li1)):\n",
        "\tprint (li1[i],end=\" \")\n",
        "\n",
        "print(\"\\r\")\n",
        "\n",
        "# añadiendo nuevos elementos a la lista\n",
        "li2[2][0] = 7\n",
        "\n",
        "# checamos si se reflejan los cambios\n",
        "print(\"Los elementos originales al aplicarse el shallow copy\")\n",
        "for i in range(0,len( li1)):\n",
        "\tprint (li1[i],end=\" \")\n"
      ]
    },
    {
      "cell_type": "markdown",
      "metadata": {
        "id": "-a7-HoT_hHJn"
      },
      "source": [
        "### *Comprehension* de listas, conjuntos y diccionarios \n",
        "\n",
        "Escribe, en una sola linea, una expresión que genere una lista con todos los números enteros que se encuentran entre $1$ y $n$ \n",
        "que sean divisibles por $2$, $3$ y $7$ y que el dígito menos significativo del número sea $2$."
      ]
    },
    {
      "cell_type": "code",
      "execution_count": 14,
      "metadata": {
        "id": "qYlw4enDhHJo"
      },
      "outputs": [
        {
          "data": {
            "text/plain": [
              "[42,\n",
              " 252,\n",
              " 462,\n",
              " 672,\n",
              " 882,\n",
              " 1092,\n",
              " 1302,\n",
              " 1512,\n",
              " 1722,\n",
              " 1932,\n",
              " 2142,\n",
              " 2352,\n",
              " 2562,\n",
              " 2772,\n",
              " 2982,\n",
              " 3192,\n",
              " 3402,\n",
              " 3612,\n",
              " 3822,\n",
              " 4032,\n",
              " 4242,\n",
              " 4452,\n",
              " 4662,\n",
              " 4872,\n",
              " 5082,\n",
              " 5292,\n",
              " 5502,\n",
              " 5712,\n",
              " 5922,\n",
              " 6132,\n",
              " 6342,\n",
              " 6552,\n",
              " 6762,\n",
              " 6972,\n",
              " 7182,\n",
              " 7392,\n",
              " 7602,\n",
              " 7812,\n",
              " 8022,\n",
              " 8232,\n",
              " 8442,\n",
              " 8652,\n",
              " 8862,\n",
              " 9072,\n",
              " 9282,\n",
              " 9492,\n",
              " 9702,\n",
              " 9912]"
            ]
          },
          "execution_count": 14,
          "metadata": {},
          "output_type": "execute_result"
        }
      ],
      "source": [
        "n = 10_000\n",
        "\n",
        "# Escribe aqui el *one linner*\n",
        "a = [x for x in range(1, n) if x % 2 == 0 and x % 3 == 0 and x % 7 == 0 and x % 10 == 2]\n",
        "a"
      ]
    },
    {
      "cell_type": "markdown",
      "metadata": {
        "id": "4qNt3vyjhHJq"
      },
      "source": [
        "### Funciones\n",
        "\n",
        "Escribe una función que:\n",
        "\n",
        "1. reciba una lista de elementos (letras, números, lo que sea), \n",
        "2. cuente la ocurrencia de cada elemento en la lista, \n",
        "3. devuelva las ocurrencias en forma de diccionario,\n",
        "4. si imprime es True, imprima un histograma de ocurrencias, por ejemplo:\n",
        "\n",
        "```python\n",
        "\n",
        "lista = [1,'a',1, 13, 'hola', 'a', 1, 1, 'a', 1]\n",
        "\n",
        "d = funcion_ejemplo(lista, imprime = True)\n",
        "\n",
        "1    \t\t***** \t(5 -> 50%)\n",
        "'a'  \t\t***   \t(3 -> 30%)\n",
        "13\t\t*\t(1 -> 10%)\n",
        "'hola'\t\t*\t(1 -> 10%)\n",
        "\n",
        "```"
      ]
    },
    {
      "cell_type": "code",
      "execution_count": 15,
      "metadata": {
        "id": "UcyO1nP2hHJr"
      },
      "outputs": [],
      "source": [
        "# Escribe la función aquí\n",
        "def funcion_ejemplo(l, imprime=True):\n",
        "    salida = {}\n",
        "    for elem in l:\n",
        "        salida[elem] = salida.get(elem, 0) + 1\n",
        "    \n",
        "    if imprime:\n",
        "        n = len(l)\n",
        "        for (llave, valor) in salida.items():\n",
        "            print(str(llave).ljust(10) + str(valor * '*').ljust(n) + f'({valor} -> {100*valor/n}%)')\n",
        "    \n",
        "    return salida"
      ]
    },
    {
      "cell_type": "code",
      "execution_count": 16,
      "metadata": {
        "id": "PqxRwSUWhHJs"
      },
      "outputs": [
        {
          "name": "stdout",
          "output_type": "stream",
          "text": [
            "1         *****     (5 -> 50.0%)\n",
            "a         ***       (3 -> 30.0%)\n",
            "13        *         (1 -> 10.0%)\n",
            "hola      *         (1 -> 10.0%)\n",
            "{1: 5, 'a': 3, 13: 1, 'hola': 1}\n"
          ]
        }
      ],
      "source": [
        "# Realiza pruebas aquí\n",
        "lista = [1,'a',1, 13, 'hola', 'a', 1, 1, 'a', 1]\n",
        "d = funcion_ejemplo(lista, imprime = True)\n",
        "print(d)"
      ]
    },
    {
      "cell_type": "markdown",
      "metadata": {
        "id": "Dabd5AnEhHJv"
      },
      "source": [
        "Escribe una función que modifique un diccionario y regrese el diccionario modificado y una copia del original, donde cada entrada \n",
        "del diccionario sea una lista de valores. Ten en cuenta que si una entrada del diccionario es de tipo mutable, al modificarlo en la\n",
        "copia se modifica el original. Utiliza el modulo `copy` para evitar este problema. Ejemplo de la función:\n",
        "\n",
        "```python\n",
        "dic1 = {'Pepe':[12, 'enero', 1980], 'Carolina':[15,'mayo',1975],'Paco':[10,'nov',1970]}\n",
        "dic2 = fundicos(dic1, 'Pepe', 1, 'febrero')\n",
        "\n",
        "print(dic1) \n",
        "{'Pepe':[12, 'enero', 1980], 'Carolina':[15,'mayo',1975],'Paco':[10,'nov',1970]}\n",
        "\n",
        "print(dic2) \n",
        "{'Pepe':[12, 'febrero', 1980], 'Carolina':[15,'mayo',1975],'Paco':[10,'nov',1970]}\n",
        "```"
      ]
    },
    {
      "cell_type": "code",
      "execution_count": 18,
      "metadata": {
        "id": "X4uvtPu8hHJw"
      },
      "outputs": [],
      "source": [
        "# Escribe la función fundicos aquí\n",
        "def fundicos(dic, llave, pos, valor):\n",
        "    dico = copy.deepcopy(dic)\n",
        "    dico[llave][pos] = valor\n",
        "    return dico"
      ]
    },
    {
      "cell_type": "code",
      "execution_count": 19,
      "metadata": {
        "id": "7U5kA7TthHJw"
      },
      "outputs": [
        {
          "name": "stdout",
          "output_type": "stream",
          "text": [
            "{'Pepe': [12, 'enero', 1980], 'Carolina': [15, 'mayo', 1975], 'Paco': [10, 'nov', 1970]}\n",
            "{'Pepe': [12, 'febrero', 1980], 'Carolina': [15, 'mayo', 1975], 'Paco': [10, 'nov', 1970]}\n"
          ]
        }
      ],
      "source": [
        "# Realiza pruebas de fundicos aquí\n",
        "dic1 = {'Pepe':[12, 'enero', 1980], 'Carolina':[15,'mayo',1975],'Paco':[10,'nov',1970]}\n",
        "dic2 = fundicos(dic1, 'Pepe', 1, 'febrero')\n",
        "\n",
        "print(dic1) \n",
        "print(dic2) "
      ]
    },
    {
      "cell_type": "markdown",
      "metadata": {
        "id": "BD2Zd4O1hHJx"
      },
      "source": [
        "### Generadores\n",
        "\n",
        "Escribe una función `fun1` que reciba un número $n$ y calcule el número primo inmediatamente inferior. \n",
        "\n",
        "Escribe una función `fun2` que reciba como argumento un numero y una función, y devuelva una lista con la evaluación de la función desde $1$ hasta $n$. \n",
        "\n",
        "Prueba `fun2` con `fun1` y con `math.sqrt`. "
      ]
    },
    {
      "cell_type": "code",
      "execution_count": 21,
      "metadata": {
        "id": "4WllC2DIhHJx"
      },
      "outputs": [],
      "source": [
        "# Escribe aqui fun1\n",
        "import math\n",
        "\n",
        "def es_primo(num):\n",
        "    if num in [1, 2, 3, 5, 7]:\n",
        "        return True\n",
        "\n",
        "    if num % 2 == 0:\n",
        "        return False\n",
        "    \n",
        "    for i in range(9, int(math.sqrt(num))+1, 2):\n",
        "        if num % i == 0:\n",
        "            return False\n",
        "    \n",
        "    return True\n",
        "\n",
        "def fun1(n):\n",
        "    for i in range(n-1, 0, -1):\n",
        "        if es_primo(i):\n",
        "            return i\n"
      ]
    },
    {
      "cell_type": "code",
      "execution_count": 24,
      "metadata": {
        "id": "ylu9G0qVhHJy"
      },
      "outputs": [
        {
          "data": {
            "text/plain": [
              "11"
            ]
          },
          "execution_count": 24,
          "metadata": {},
          "output_type": "execute_result"
        }
      ],
      "source": [
        "# Realiza pruebas de fun1 aqui\n",
        "fun1(13)"
      ]
    },
    {
      "cell_type": "code",
      "execution_count": 29,
      "metadata": {
        "id": "QTQuQ3DahHJy"
      },
      "outputs": [],
      "source": [
        "# Escribe fun2 aquí\n",
        "def fun2(num, fun):\n",
        "    return [fun(i) for i in range(1,num+1)]"
      ]
    },
    {
      "cell_type": "code",
      "execution_count": 32,
      "metadata": {
        "id": "iJ3RZ9-YhHJy"
      },
      "outputs": [
        {
          "data": {
            "text/plain": [
              "[1.0,\n",
              " 1.4142135623730951,\n",
              " 1.7320508075688772,\n",
              " 2.0,\n",
              " 2.23606797749979,\n",
              " 2.449489742783178,\n",
              " 2.6457513110645907,\n",
              " 2.8284271247461903,\n",
              " 3.0,\n",
              " 3.1622776601683795,\n",
              " 3.3166247903554,\n",
              " 3.4641016151377544,\n",
              " 3.605551275463989,\n",
              " 3.7416573867739413,\n",
              " 3.872983346207417,\n",
              " 4.0]"
            ]
          },
          "execution_count": 32,
          "metadata": {},
          "output_type": "execute_result"
        }
      ],
      "source": [
        "# Realiza pruebas de fun2 aquí\n",
        "fun2(16, math.sqrt)"
      ]
    },
    {
      "cell_type": "markdown",
      "metadata": {
        "id": "AMB7-zkKhHJy"
      },
      "source": [
        "Escribe una función, lo más compacta posible, que escoja entre los 3 patrones ascii a continuación, e imprima en pantalla \n",
        "el deseado, pero de dimensión $n$ ($n \\ge 4$), toma en cuanta que para algunos valores de $n$ habrá \n",
        "algún(os) patrones que no se puedan hacer.\n",
        "\n",
        "```\n",
        "          *             ++++           oooooooo\n",
        "          **            ++++           ooo  ooo\n",
        "          ***           ++++           oo    oo\n",
        "          ****          ++++           o      o\n",
        "          *****             ++++       o      o\n",
        "          ******            ++++       oo    oo\n",
        "          *******           ++++       ooo  ooo\n",
        "          ********          ++++       oooooooo\n",
        "\n",
        "```"
      ]
    },
    {
      "cell_type": "code",
      "execution_count": 33,
      "metadata": {
        "id": "3_15VcLghHJz"
      },
      "outputs": [],
      "source": [
        "# Escribe aquí la función\n",
        "def patrones(n, opc):\n",
        "    assert (n >= 4)\n",
        "    if opc == '*':\n",
        "        for i in range(1,n+1):\n",
        "            print('*' * i)\n",
        "    elif opc == '+':\n",
        "        assert (n % 4 == 0)\n",
        "        p1, p2 = '    ', '++++'\n",
        "        for i in range(int(n/4)):\n",
        "            cont = 0\n",
        "            if (i+1) % 2 != 0: \n",
        "                while cont <= 4:\n",
        "                    print(p2+p1)\n",
        "                    cont += 1\n",
        "            else:\n",
        "                while cont <= 4:\n",
        "                    print(p1+p2)\n",
        "                    cont += 1\n",
        "    elif opc == 'o':\n",
        "        assert (n % 8 == 0)\n",
        "        for i in range(n,0,-1):\n",
        "            print('*' * i)"
      ]
    },
    {
      "cell_type": "code",
      "execution_count": 39,
      "metadata": {
        "id": "XENActtJhHJz"
      },
      "outputs": [
        {
          "name": "stdout",
          "output_type": "stream",
          "text": [
            "++++    \n",
            "++++    \n",
            "++++    \n",
            "++++    \n",
            "++++    \n",
            "    ++++\n",
            "    ++++\n",
            "    ++++\n",
            "    ++++\n",
            "    ++++\n"
          ]
        }
      ],
      "source": [
        "#Realiza pruebas aquí\n",
        "patrones(8, '+')"
      ]
    },
    {
      "cell_type": "markdown",
      "metadata": {
        "id": "1i8KKGyfhHJz"
      },
      "source": [
        "### Clases y objetos\n",
        "\n",
        "Diseña una clase Matriz con las siguientes características:\n",
        "\n",
        "1. Como inicialización de un objeto es necesario conocer $n$, $m$ y tipo. En caso de no proporcionar $m$ la matriz se asume cuadrada de $n \\times n$. En caso de no proporcionar $n$ la matriz tendrá una dimensión de $1 \\times 1$. \n",
        "2. De no especificarse todos los elementos se inicializan a 0, a menos que exista un tipo especial ( `unos` o `diag` por el momento).\n",
        "3. Implementa con sobrecarga la suma de matrices, la multiplicación de matrices y la multiplicación por un escalar.\n",
        "4. Implementa como métodos eliminar columna y eliminar fila.   \n",
        "5. Programa la representación visual de la matriz. \n",
        "6. Ten en cuenta tambien el manejo de errores. \n",
        "\n",
        "\n",
        "Ejemplo de uso:\n",
        "\n",
        "```\n",
        ">>> A = Matriz(n=3, m=4)\n",
        "\n",
        ">>> print(A)\n",
        "0 0 0 0\n",
        "0 0 0 0\n",
        "0 0 0 0\n",
        "\n",
        ">>> A = A.quitafila(2)\n",
        "\n",
        ">>> print(A)\n",
        "0 0 0 0\n",
        "0 0 0 0\n",
        "\n",
        ">>> B = Matriz(4,4,'diag')\n",
        "\n",
        ">>> print(B)\n",
        "1 0 0 0\n",
        "0 1 0 0\n",
        "0 0 1 0\n",
        "0 0 0 1\n",
        "\n",
        ">>> C = Matriz(4,1,'unos')\n",
        "\n",
        ">>> print(C)\n",
        "1\n",
        "1\n",
        "1\n",
        "1\n",
        "\n",
        ">>> D = 3 * B * C\n",
        "\n",
        ">>> print(D)\n",
        "3\n",
        "3\n",
        "3\n",
        "3\n",
        "\n",
        ">>> E = 3 * B + C\n",
        "error \"No seas menso, si no son de la misma dimensión las matrices no se pueden sumar\"\n",
        "```"
      ]
    },
    {
      "cell_type": "code",
      "execution_count": 43,
      "metadata": {
        "id": "c1l9aMZOhHJ0"
      },
      "outputs": [],
      "source": [
        "# Desarrolla aqui la clase\n",
        "class Matriz(object):\n",
        "\n",
        "    def __init__(self, n, m=None, tipo='zeros'):\n",
        "        self.n = n\n",
        "        self.m = n if m == None else m\n",
        "        if tipo == 'zeros':\n",
        "            self.datos = [[0 for j in range(m)] for i in range(n)]\n",
        "        elif tipo == 'unos':\n",
        "            self.datos = [[1 for j in range(m)] for i in range(n)]\n",
        "        elif tipo == 'diag':\n",
        "            self.datos = [[0 if j!=i else 1 for j in range(m)] for i in range(n)]\n",
        "        else:\n",
        "            raise ValueError(f'el tipo {tipo} no está definido.')\n",
        "        self.tipo = tipo\n",
        "\n",
        "    def __str__(self):\n",
        "        rep = \"\\n\".join([', '.join(str(self.datos[i][j]) for j in range(self.m)) for i in range(self.n)])\n",
        "        return rep\n",
        "\n",
        "    def quitafila(self, n):\n",
        "        if n >= self.n:\n",
        "            raise ValueError(f'{n} es demasiado grande')\n",
        "        self.datos = [fila for i, fila in enumerate(self.datos) if i!=n]\n",
        "        self.n -= 1\n",
        "\n",
        "    def __rmul__(self, k):\n",
        "        mul_esc_mat = Matriz(self.n, self.m, tipo=self.tipo)\n",
        "        mul_esc_mat.datos = self.datos\n",
        "        mul_esc_mat.datos = [[k * mul_esc_mat.datos[i][j] for j in range(self.m)] for i in range(self.n)]\n",
        "        return mul_esc_mat\n",
        "\n",
        "    def __add__(self, B):\n",
        "        B_copy = copy.deepcopy(B)\n",
        "        sum_mat = Matriz(B.n, B.m, tipo=B.tipo)\n",
        "        if (self.n != B.n) or (self.m != B.m):\n",
        "            raise ValueError(f'No se pueden sumar matrices de diferente tamaño.')\n",
        "        sum_mat.datos = [[self.datos[i][j] + B_copy.datos[i][j] for j in range(self.m)] for i in range(self.n)]\n",
        "        return sum_mat\n",
        "    \n",
        "    def __mul__(self, B):\n",
        "        if self.m != B.n:\n",
        "            raise ValueError(f'No se pueden multiplicar matrices de dimensiones ({self.n}, {self.m}) x ({B.n}, {B.m}).')\n",
        "        B_copy = copy.deepcopy(B)\n",
        "        prodp_mat = Matriz(self.n, B.m)\n",
        "\n",
        "        for fil in range(self.n):\n",
        "            for col in range(B.m):\n",
        "                for k in range(self.m):\n",
        "                    prodp_mat.datos[fil][col] += self.datos[fil][k] * B_copy.datos[k][col]\n",
        "        \n",
        "        return prodp_mat"
      ]
    },
    {
      "cell_type": "code",
      "execution_count": 50,
      "metadata": {
        "id": "o5jKMxEZhHJ0"
      },
      "outputs": [
        {
          "name": "stdout",
          "output_type": "stream",
          "text": [
            "Matriz A\n",
            "1, 0, 0, 0\n",
            "0, 1, 0, 0\n",
            "0, 0, 1, 0\n",
            "0, 0, 0, 1\n",
            "Matriz A sin fila\n",
            "1, 0, 0, 0\n",
            "0, 1, 0, 0\n",
            "0, 0, 1, 0\n",
            "Matriz b (multiplicacion por numero)\n",
            "3, 0, 0, 0\n",
            "0, 3, 0, 0\n",
            "0, 0, 3, 0\n",
            "Matriz A\n",
            "1, 0, 0, 0\n",
            "0, 1, 0, 0\n",
            "0, 0, 1, 0\n",
            "-----------------------\n",
            "Matriz A\n",
            "1, 1, 1, 1\n",
            "1, 1, 1, 1\n",
            "1, 1, 1, 1\n",
            "1, 1, 1, 1\n",
            "Matriz B\n",
            "1, 1, 1, 1\n",
            "1, 1, 1, 1\n",
            "1, 1, 1, 1\n",
            "1, 1, 1, 1\n",
            "Matriz C (B + A)\n",
            "2, 2, 2, 2\n",
            "2, 2, 2, 2\n",
            "2, 2, 2, 2\n",
            "2, 2, 2, 2\n",
            "Matriz D (3 * B * A)\n",
            "4, 4, 4, 4\n",
            "4, 4, 4, 4\n",
            "4, 4, 4, 4\n",
            "4, 4, 4, 4\n"
          ]
        }
      ],
      "source": [
        "# Realiza las pruebas a la clase aquí\n",
        "\n",
        "print('Matriz A')\n",
        "A = Matriz(n=4, m=4, tipo='diag')\n",
        "print(A)\n",
        "\n",
        "print('Matriz A sin fila')\n",
        "A.quitafila(3)\n",
        "print(A)\n",
        "\n",
        "print('Matriz b (multiplicacion por numero)')\n",
        "b = 3 * A\n",
        "print(b)\n",
        "\n",
        "print('Matriz A')\n",
        "print(A)\n",
        "\n",
        "print('-----------------------')\n",
        "A = Matriz(n=4, m=4, tipo='unos')\n",
        "B = Matriz(n=4, m=4, tipo='unos')\n",
        "\n",
        "print('Matriz A')\n",
        "print(A)\n",
        "\n",
        "print('Matriz B')\n",
        "print(B)\n",
        "\n",
        "print('Matriz C (B + A)')\n",
        "c = A + B\n",
        "print(c)\n",
        "\n",
        "print('Matriz D (3 * B * A)')\n",
        "d = 3 * A + B\n",
        "print(d)\n"
      ]
    },
    {
      "cell_type": "code",
      "execution_count": 49,
      "metadata": {},
      "outputs": [
        {
          "name": "stdout",
          "output_type": "stream",
          "text": [
            "B =  1, 0, 0, 0\n",
            "0, 1, 0, 0\n",
            "0, 0, 1, 0\n",
            "0, 0, 0, 1\n",
            "C = 1\n",
            "1\n",
            "1\n",
            "1\n",
            "-----\n",
            "3\n",
            "3\n",
            "3\n",
            "3\n"
          ]
        }
      ],
      "source": [
        "\n",
        "##############\n",
        "\n",
        "B = Matriz(4,4,'diag')\n",
        "print('B = ', B)\n",
        "\n",
        "C = Matriz(4,1,'unos')\n",
        "print('C =', C)\n",
        "\n",
        "print('-----')\n",
        "D = 3 * B * C\n",
        "print(D)"
      ]
    }
  ],
  "metadata": {
    "colab": {
      "provenance": []
    },
    "kernelspec": {
      "display_name": "ing-caract",
      "language": "python",
      "name": "python3"
    },
    "language_info": {
      "codemirror_mode": {
        "name": "ipython",
        "version": 3
      },
      "file_extension": ".py",
      "mimetype": "text/x-python",
      "name": "python",
      "nbconvert_exporter": "python",
      "pygments_lexer": "ipython3",
      "version": "3.11.0"
    },
    "orig_nbformat": 4
  },
  "nbformat": 4,
  "nbformat_minor": 0
}
